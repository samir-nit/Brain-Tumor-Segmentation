{
  "nbformat": 4,
  "nbformat_minor": 0,
  "metadata": {
    "colab": {
      "name": "DAY 1.ipynb",
      "provenance": [],
      "collapsed_sections": []
    },
    "kernelspec": {
      "name": "python3",
      "display_name": "Python 3"
    },
    "language_info": {
      "name": "python"
    }
  },
  "cells": [
    {
      "cell_type": "code",
      "metadata": {
        "id": "GoxqkwyXlgqh"
      },
      "source": [
        "#PYTHON IDLE        .py  (basic extension)\n",
        "#SUBLIME TEXT EDITOR .py\n",
        "\n",
        "#KAGGLE NOTEBOOK   .ipynb\n",
        "#JUPYTER NOTEBOOK  .ipynb\n",
        "#COLAB             .ipynb(integrated python notebook )"
      ],
      "execution_count": null,
      "outputs": []
    },
    {
      "cell_type": "code",
      "metadata": {
        "id": "aEDhbZ82q54J"
      },
      "source": [
        "#CELLS TO TYPE OUR CODE "
      ],
      "execution_count": null,
      "outputs": []
    },
    {
      "cell_type": "code",
      "metadata": {
        "colab": {
          "base_uri": "https://localhost:8080/"
        },
        "id": "AkNioa5lrh3u",
        "outputId": "6d423fc1-59c9-4a29-9d6e-5f660634c83d"
      },
      "source": [
        "print('HELLO WORLD')"
      ],
      "execution_count": null,
      "outputs": [
        {
          "output_type": "stream",
          "text": [
            "HELLO WORLD\n"
          ],
          "name": "stdout"
        }
      ]
    },
    {
      "cell_type": "code",
      "metadata": {
        "colab": {
          "base_uri": "https://localhost:8080/"
        },
        "id": "uQI1dRAzrjHM",
        "outputId": "dfc41db5-00a3-4e5c-9f09-70070f917a05"
      },
      "source": [
        "print(\"HELLO WORLD\")"
      ],
      "execution_count": null,
      "outputs": [
        {
          "output_type": "stream",
          "text": [
            "HELLO WORLD\n"
          ],
          "name": "stdout"
        }
      ]
    },
    {
      "cell_type": "code",
      "metadata": {
        "colab": {
          "base_uri": "https://localhost:8080/"
        },
        "id": "H_YvdWMYr92h",
        "outputId": "17986fd2-519c-4f8e-81d3-dca09ce3a0a0"
      },
      "source": [
        "a = 1\n",
        "b=2\n",
        "print(a)\n",
        "print(b)  \n",
        "#SHIFT + ENTER "
      ],
      "execution_count": null,
      "outputs": [
        {
          "output_type": "stream",
          "text": [
            "1\n",
            "2\n"
          ],
          "name": "stdout"
        }
      ]
    },
    {
      "cell_type": "code",
      "metadata": {
        "colab": {
          "base_uri": "https://localhost:8080/"
        },
        "id": "JNX4CreVsHYU",
        "outputId": "573feae2-3ad3-449b-e328-e81ad3268c53"
      },
      "source": [
        "a = 1   \n",
        "b = 2.0\n",
        "c = 'HELLO WORLD'\n",
        "d = True\n",
        "print(type(a))\n",
        "\n",
        "print(type(b))\n",
        "\n",
        "print(type(c))\n",
        "\n",
        "print(type(d))\n"
      ],
      "execution_count": null,
      "outputs": [
        {
          "output_type": "stream",
          "text": [
            "<class 'int'>\n",
            "<class 'float'>\n",
            "<class 'str'>\n",
            "<class 'bool'>\n"
          ],
          "name": "stdout"
        }
      ]
    },
    {
      "cell_type": "code",
      "metadata": {
        "colab": {
          "base_uri": "https://localhost:8080/"
        },
        "id": "47oq74zAsw7O",
        "outputId": "73067ebe-1a1e-46cd-eedc-c476ec217f8c"
      },
      "source": [
        "a = int(input('Enter the value of a:'))\n",
        "b = int(input('Enter the value of b:'))\n",
        "c = int(a) + int(b)\n",
        "print(c)\n",
        "print(f'The sum of {a} and {b} is {c}')"
      ],
      "execution_count": null,
      "outputs": [
        {
          "output_type": "stream",
          "text": [
            "Enter the value of a:2\n",
            "Enter the value of b:3\n",
            "5\n",
            "The sum of 2 and 3 is 5\n"
          ],
          "name": "stdout"
        }
      ]
    },
    {
      "cell_type": "code",
      "metadata": {
        "colab": {
          "base_uri": "https://localhost:8080/"
        },
        "id": "C91JKtnEtRVv",
        "outputId": "9186b89d-c3c0-45c1-d57f-35fb9ae6c8c2"
      },
      "source": [
        "#EVEN OR ODD \n",
        "a = 7\n",
        "if(a%2==0):\n",
        "  print(\"Number is even!\")\n",
        "else:\n",
        "  print(\"Number is odd\")\n",
        "\n"
      ],
      "execution_count": null,
      "outputs": [
        {
          "output_type": "stream",
          "text": [
            "Number is odd\n"
          ],
          "name": "stdout"
        }
      ]
    },
    {
      "cell_type": "code",
      "metadata": {
        "id": "3MHUI3v1ub2F"
      },
      "source": [
        "#for(i=0;i<n;i++)  #C \n",
        "for i in range(1,10,1):   #1 is inclusive and 10 is exclusive\n",
        "  print(i)"
      ],
      "execution_count": null,
      "outputs": []
    },
    {
      "cell_type": "code",
      "metadata": {
        "colab": {
          "base_uri": "https://localhost:8080/"
        },
        "id": "bmwepyjjwH-U",
        "outputId": "f4e3f423-3260-4fd7-e0cb-8fecf38dda15"
      },
      "source": [
        "a = 0\n",
        "while(a<10):\n",
        "  print(a)\n",
        "  a=a+2"
      ],
      "execution_count": null,
      "outputs": [
        {
          "output_type": "stream",
          "text": [
            "0\n",
            "2\n",
            "4\n",
            "6\n",
            "8\n"
          ],
          "name": "stdout"
        }
      ]
    },
    {
      "cell_type": "code",
      "metadata": {
        "id": "0I06pywowbWn"
      },
      "source": [
        ""
      ],
      "execution_count": null,
      "outputs": []
    },
    {
      "cell_type": "code",
      "metadata": {
        "id": "n4TozwyKwupI"
      },
      "source": [
        ""
      ],
      "execution_count": null,
      "outputs": []
    },
    {
      "cell_type": "markdown",
      "metadata": {
        "id": "OW2Hbv79wwnV"
      },
      "source": [
        "NUMPY"
      ]
    },
    {
      "cell_type": "code",
      "metadata": {
        "id": "NFCgw9_QwytL"
      },
      "source": [
        "import numpy as np"
      ],
      "execution_count": null,
      "outputs": []
    },
    {
      "cell_type": "code",
      "metadata": {
        "colab": {
          "base_uri": "https://localhost:8080/"
        },
        "id": "LFyPS5ecy92N",
        "outputId": "4fd17cc0-a4bc-4f2a-e4b0-d8d0dfd3cec8"
      },
      "source": [
        "a = np.array([1,2,3,4,5])\n",
        "a"
      ],
      "execution_count": null,
      "outputs": [
        {
          "output_type": "execute_result",
          "data": {
            "text/plain": [
              "array([1, 2, 3, 4, 5])"
            ]
          },
          "metadata": {
            "tags": []
          },
          "execution_count": 31
        }
      ]
    },
    {
      "cell_type": "code",
      "metadata": {
        "colab": {
          "base_uri": "https://localhost:8080/"
        },
        "id": "b-zweeM2zJ6D",
        "outputId": "fd6ac534-2e0e-4a88-fc32-c200a8c93092"
      },
      "source": [
        "type(a)"
      ],
      "execution_count": null,
      "outputs": [
        {
          "output_type": "execute_result",
          "data": {
            "text/plain": [
              "numpy.ndarray"
            ]
          },
          "metadata": {
            "tags": []
          },
          "execution_count": 32
        }
      ]
    },
    {
      "cell_type": "code",
      "metadata": {
        "colab": {
          "base_uri": "https://localhost:8080/"
        },
        "id": "cL_jfN3jzO7x",
        "outputId": "e445c4f4-f456-4d6e-8ea4-47a1bbd1ba82"
      },
      "source": [
        "a.size"
      ],
      "execution_count": null,
      "outputs": [
        {
          "output_type": "execute_result",
          "data": {
            "text/plain": [
              "5"
            ]
          },
          "metadata": {
            "tags": []
          },
          "execution_count": 33
        }
      ]
    },
    {
      "cell_type": "code",
      "metadata": {
        "colab": {
          "base_uri": "https://localhost:8080/"
        },
        "id": "tWJb3qKBzSTL",
        "outputId": "69832f99-cc14-47ce-c0f0-c43f8734de9a"
      },
      "source": [
        "a.ndim"
      ],
      "execution_count": null,
      "outputs": [
        {
          "output_type": "execute_result",
          "data": {
            "text/plain": [
              "1"
            ]
          },
          "metadata": {
            "tags": []
          },
          "execution_count": 34
        }
      ]
    },
    {
      "cell_type": "code",
      "metadata": {
        "colab": {
          "base_uri": "https://localhost:8080/"
        },
        "id": "xJjQt8RQzWPD",
        "outputId": "0ff01e5e-6213-4d3a-c7d3-2a3e5c3a04f3"
      },
      "source": [
        "a.dtype"
      ],
      "execution_count": null,
      "outputs": [
        {
          "output_type": "execute_result",
          "data": {
            "text/plain": [
              "dtype('int64')"
            ]
          },
          "metadata": {
            "tags": []
          },
          "execution_count": 35
        }
      ]
    },
    {
      "cell_type": "code",
      "metadata": {
        "colab": {
          "base_uri": "https://localhost:8080/"
        },
        "id": "INQ46aBlzdJ1",
        "outputId": "8848291a-2292-4d1d-d220-7611fa9876a1"
      },
      "source": [
        "a.shape"
      ],
      "execution_count": null,
      "outputs": [
        {
          "output_type": "execute_result",
          "data": {
            "text/plain": [
              "(5,)"
            ]
          },
          "metadata": {
            "tags": []
          },
          "execution_count": 36
        }
      ]
    },
    {
      "cell_type": "code",
      "metadata": {
        "colab": {
          "base_uri": "https://localhost:8080/"
        },
        "id": "LkddOXN7zhXg",
        "outputId": "ff577613-8207-41b0-ba91-488548b142d7"
      },
      "source": [
        "b = np.array([[1.0,2.0,3.0],[4.0,5.0]])\n",
        "b"
      ],
      "execution_count": null,
      "outputs": [
        {
          "output_type": "stream",
          "text": [
            "/usr/local/lib/python3.7/dist-packages/ipykernel_launcher.py:1: VisibleDeprecationWarning: Creating an ndarray from ragged nested sequences (which is a list-or-tuple of lists-or-tuples-or ndarrays with different lengths or shapes) is deprecated. If you meant to do this, you must specify 'dtype=object' when creating the ndarray\n",
            "  \"\"\"Entry point for launching an IPython kernel.\n"
          ],
          "name": "stderr"
        },
        {
          "output_type": "execute_result",
          "data": {
            "text/plain": [
              "array([list([1.0, 2.0, 3.0]), list([4.0, 5.0])], dtype=object)"
            ]
          },
          "metadata": {
            "tags": []
          },
          "execution_count": 41
        }
      ]
    },
    {
      "cell_type": "code",
      "metadata": {
        "colab": {
          "base_uri": "https://localhost:8080/"
        },
        "id": "4gU-dItP0CJ0",
        "outputId": "d0a45392-9f9d-4069-d192-ad1b3ac13e9f"
      },
      "source": [
        "b.ndim"
      ],
      "execution_count": null,
      "outputs": [
        {
          "output_type": "execute_result",
          "data": {
            "text/plain": [
              "2"
            ]
          },
          "metadata": {
            "tags": []
          },
          "execution_count": 38
        }
      ]
    },
    {
      "cell_type": "code",
      "metadata": {
        "colab": {
          "base_uri": "https://localhost:8080/"
        },
        "id": "7UCWuorJ0F6x",
        "outputId": "e511d235-5b73-47d9-c3dd-9726e1db15e3"
      },
      "source": [
        "c = np.array(['aaa','bbb'])\n",
        "c"
      ],
      "execution_count": null,
      "outputs": [
        {
          "output_type": "execute_result",
          "data": {
            "text/plain": [
              "array(['aaa', 'bbb'], dtype='<U3')"
            ]
          },
          "metadata": {
            "tags": []
          },
          "execution_count": 40
        }
      ]
    },
    {
      "cell_type": "code",
      "metadata": {
        "colab": {
          "base_uri": "https://localhost:8080/"
        },
        "id": "1jsxOK910voN",
        "outputId": "1c28a685-6fd2-4fe9-8f50-ecf676b1d562"
      },
      "source": [
        "np.ones([5,4],dtype=int)"
      ],
      "execution_count": null,
      "outputs": [
        {
          "output_type": "execute_result",
          "data": {
            "text/plain": [
              "array([[1, 1, 1, 1],\n",
              "       [1, 1, 1, 1],\n",
              "       [1, 1, 1, 1],\n",
              "       [1, 1, 1, 1],\n",
              "       [1, 1, 1, 1]])"
            ]
          },
          "metadata": {
            "tags": []
          },
          "execution_count": 46
        }
      ]
    },
    {
      "cell_type": "code",
      "metadata": {
        "colab": {
          "base_uri": "https://localhost:8080/"
        },
        "id": "X78U5ztX1LUA",
        "outputId": "652b8269-cdab-4c1f-b9a5-4a5f4f9edf99"
      },
      "source": [
        "np.zeros([2,3])"
      ],
      "execution_count": null,
      "outputs": [
        {
          "output_type": "execute_result",
          "data": {
            "text/plain": [
              "array([[0., 0., 0.],\n",
              "       [0., 0., 0.]])"
            ]
          },
          "metadata": {
            "tags": []
          },
          "execution_count": 45
        }
      ]
    },
    {
      "cell_type": "code",
      "metadata": {
        "id": "Q1UtsscH1VpH"
      },
      "source": [
        "x= [1,2,3,4,5]"
      ],
      "execution_count": null,
      "outputs": []
    },
    {
      "cell_type": "code",
      "metadata": {
        "colab": {
          "base_uri": "https://localhost:8080/"
        },
        "id": "fjfIZBA61mbx",
        "outputId": "5b24e169-41ad-4f2a-f430-9a772deed1a0"
      },
      "source": [
        "np.sum(x)"
      ],
      "execution_count": null,
      "outputs": [
        {
          "output_type": "execute_result",
          "data": {
            "text/plain": [
              "15"
            ]
          },
          "metadata": {
            "tags": []
          },
          "execution_count": 48
        }
      ]
    },
    {
      "cell_type": "code",
      "metadata": {
        "colab": {
          "base_uri": "https://localhost:8080/"
        },
        "id": "iBSJj0cP1oCh",
        "outputId": "4522c62a-ea3b-4350-b45c-c7888f4993c2"
      },
      "source": [
        "np.min(x)"
      ],
      "execution_count": null,
      "outputs": [
        {
          "output_type": "execute_result",
          "data": {
            "text/plain": [
              "1"
            ]
          },
          "metadata": {
            "tags": []
          },
          "execution_count": 49
        }
      ]
    },
    {
      "cell_type": "code",
      "metadata": {
        "colab": {
          "base_uri": "https://localhost:8080/"
        },
        "id": "zkCKDcNX1qIz",
        "outputId": "6b1f7c96-54b3-4242-d429-ef3a46cb34db"
      },
      "source": [
        "np.max(x)"
      ],
      "execution_count": null,
      "outputs": [
        {
          "output_type": "execute_result",
          "data": {
            "text/plain": [
              "5"
            ]
          },
          "metadata": {
            "tags": []
          },
          "execution_count": 50
        }
      ]
    },
    {
      "cell_type": "code",
      "metadata": {
        "colab": {
          "base_uri": "https://localhost:8080/"
        },
        "id": "juTJNetV1rmu",
        "outputId": "6072f52a-69b6-4dfe-c578-bd2c3a8c0240"
      },
      "source": [
        "np.mean(x)"
      ],
      "execution_count": null,
      "outputs": [
        {
          "output_type": "execute_result",
          "data": {
            "text/plain": [
              "3.0"
            ]
          },
          "metadata": {
            "tags": []
          },
          "execution_count": 51
        }
      ]
    },
    {
      "cell_type": "code",
      "metadata": {
        "colab": {
          "base_uri": "https://localhost:8080/"
        },
        "id": "KVl3dQb71uN7",
        "outputId": "1efe86d2-d758-418a-b354-1540a2c6c74c"
      },
      "source": [
        "np.arange(10)"
      ],
      "execution_count": null,
      "outputs": [
        {
          "output_type": "execute_result",
          "data": {
            "text/plain": [
              "array([0, 1, 2, 3, 4, 5, 6, 7, 8, 9])"
            ]
          },
          "metadata": {
            "tags": []
          },
          "execution_count": 56
        }
      ]
    },
    {
      "cell_type": "code",
      "metadata": {
        "colab": {
          "base_uri": "https://localhost:8080/"
        },
        "id": "mFNaAAwT1zTI",
        "outputId": "8ecd18cc-7413-406c-89b5-cb45d935a54d"
      },
      "source": [
        "np.arange(10,20)"
      ],
      "execution_count": null,
      "outputs": [
        {
          "output_type": "execute_result",
          "data": {
            "text/plain": [
              "array([10, 11, 12, 13, 14, 15, 16, 17, 18, 19])"
            ]
          },
          "metadata": {
            "tags": []
          },
          "execution_count": 54
        }
      ]
    },
    {
      "cell_type": "code",
      "metadata": {
        "colab": {
          "base_uri": "https://localhost:8080/"
        },
        "id": "iBCJmZr3169o",
        "outputId": "29991a8c-be57-4973-bf74-d97b9d6a1f60"
      },
      "source": [
        "np.arange(0,20,2)"
      ],
      "execution_count": null,
      "outputs": [
        {
          "output_type": "execute_result",
          "data": {
            "text/plain": [
              "array([ 0,  2,  4,  6,  8, 10, 12, 14, 16, 18])"
            ]
          },
          "metadata": {
            "tags": []
          },
          "execution_count": 55
        }
      ]
    },
    {
      "cell_type": "code",
      "metadata": {
        "colab": {
          "base_uri": "https://localhost:8080/"
        },
        "id": "vI5t9job1-E8",
        "outputId": "973a6e8a-e472-4b91-bf06-3c2df93eabda"
      },
      "source": [
        "np.linspace(0,20,3)"
      ],
      "execution_count": null,
      "outputs": [
        {
          "output_type": "execute_result",
          "data": {
            "text/plain": [
              "array([ 0., 10., 20.])"
            ]
          },
          "metadata": {
            "tags": []
          },
          "execution_count": 67
        }
      ]
    },
    {
      "cell_type": "code",
      "metadata": {
        "colab": {
          "base_uri": "https://localhost:8080/"
        },
        "id": "E6GnvDfv3ji5",
        "outputId": "eca53552-131a-4cc9-cf27-0da7e27040c2"
      },
      "source": [
        "np.linspace(0,10,2)"
      ],
      "execution_count": null,
      "outputs": [
        {
          "output_type": "execute_result",
          "data": {
            "text/plain": [
              "array([ 0., 10.])"
            ]
          },
          "metadata": {
            "tags": []
          },
          "execution_count": 68
        }
      ]
    },
    {
      "cell_type": "code",
      "metadata": {
        "colab": {
          "base_uri": "https://localhost:8080/"
        },
        "id": "T1R800Zq3oad",
        "outputId": "74e79b58-48b2-4151-a9b1-29686c5abb8c"
      },
      "source": [
        "np.linspace(0,10,3)"
      ],
      "execution_count": null,
      "outputs": [
        {
          "output_type": "execute_result",
          "data": {
            "text/plain": [
              "array([ 0.,  5., 10.])"
            ]
          },
          "metadata": {
            "tags": []
          },
          "execution_count": 69
        }
      ]
    },
    {
      "cell_type": "code",
      "metadata": {
        "colab": {
          "base_uri": "https://localhost:8080/"
        },
        "id": "fascmuKI3v7R",
        "outputId": "2eb95c5a-93c3-4956-80aa-96f4330676ca"
      },
      "source": [
        "np.linspace(0,10,4)"
      ],
      "execution_count": null,
      "outputs": [
        {
          "output_type": "execute_result",
          "data": {
            "text/plain": [
              "array([ 0.        ,  3.33333333,  6.66666667, 10.        ])"
            ]
          },
          "metadata": {
            "tags": []
          },
          "execution_count": 70
        }
      ]
    },
    {
      "cell_type": "code",
      "metadata": {
        "colab": {
          "base_uri": "https://localhost:8080/"
        },
        "id": "jEMTOUHj2vVQ",
        "outputId": "cc305b60-07ab-47a5-9383-f936cb18c23d"
      },
      "source": [
        "np.sin(x)"
      ],
      "execution_count": null,
      "outputs": [
        {
          "output_type": "execute_result",
          "data": {
            "text/plain": [
              "array([ 0.84147098,  0.90929743,  0.14112001, -0.7568025 , -0.95892427])"
            ]
          },
          "metadata": {
            "tags": []
          },
          "execution_count": 61
        }
      ]
    },
    {
      "cell_type": "code",
      "metadata": {
        "colab": {
          "base_uri": "https://localhost:8080/"
        },
        "id": "b1XrzW6l2-JW",
        "outputId": "49835410-9eca-45d6-9a7e-0b7f156ed53e"
      },
      "source": [
        "np.sqrt(x)"
      ],
      "execution_count": null,
      "outputs": [
        {
          "output_type": "execute_result",
          "data": {
            "text/plain": [
              "array([1.        , 1.41421356, 1.73205081, 2.        , 2.23606798])"
            ]
          },
          "metadata": {
            "tags": []
          },
          "execution_count": 62
        }
      ]
    },
    {
      "cell_type": "code",
      "metadata": {
        "colab": {
          "base_uri": "https://localhost:8080/"
        },
        "id": "Maxomzvr3EcB",
        "outputId": "3d999bc7-f197-4030-8a4c-2766ab69deb6"
      },
      "source": [
        "np.power(x,3)\n",
        "#x=[1,2,3,4,5]"
      ],
      "execution_count": null,
      "outputs": [
        {
          "output_type": "execute_result",
          "data": {
            "text/plain": [
              "array([  1,   8,  27,  64, 125])"
            ]
          },
          "metadata": {
            "tags": []
          },
          "execution_count": 64
        }
      ]
    },
    {
      "cell_type": "markdown",
      "metadata": {
        "id": "ElIoWHTC7Ffr"
      },
      "source": [
        "MATPLOTLIB"
      ]
    },
    {
      "cell_type": "code",
      "metadata": {
        "colab": {
          "base_uri": "https://localhost:8080/",
          "height": 299
        },
        "id": "-4hX2_pF3J6J",
        "outputId": "ff1244f1-ca46-4ca5-ab4a-7f2e2d693c1b"
      },
      "source": [
        "import matplotlib.pyplot as plt\n",
        "i = np.array([[[0,255,0]]])\n",
        "print(i)\n",
        "plt.imshow(i)"
      ],
      "execution_count": null,
      "outputs": [
        {
          "output_type": "stream",
          "text": [
            "[[[  0 255   0]]]\n"
          ],
          "name": "stdout"
        },
        {
          "output_type": "execute_result",
          "data": {
            "text/plain": [
              "<matplotlib.image.AxesImage at 0x7f84a576cb50>"
            ]
          },
          "metadata": {
            "tags": []
          },
          "execution_count": 75
        },
        {
          "output_type": "display_data",
          "data": {
            "image/png": "[encoded data removed]",
            "text/plain": [
              "<Figure size 432x288 with 1 Axes>"
            ]
          },
          "metadata": {
            "tags": [],
            "needs_background": "light"
          }
        }
      ]
    },
    {
      "cell_type": "code",
      "metadata": {
        "id": "ODpfgQp293fD"
      },
      "source": [
        "import matplotlib.pyplot as plt\n",
        "palette = np.array([ [0,0,0] , [255,0,0], [0,255,0]])\n",
        "image = np.array([[0,1,2]])\n",
        "palette[image]\n",
        "plt.imshow(palette[image])\n"
      ],
      "execution_count": null,
      "outputs": []
    },
    {
      "cell_type": "code",
      "metadata": {
        "colab": {
          "base_uri": "https://localhost:8080/",
          "height": 295
        },
        "id": "lVdHFRVE_RI3",
        "outputId": "c110998a-6ca9-4fa4-efb7-fad5ffc727fb"
      },
      "source": [
        "#LINE GRAPH\n",
        "a = [1,2,3,4,5] #list1\n",
        "b = [2,3,1,5,4] #list2\n",
        "c = [9,8,5,2,6] #list 3\n",
        "plt.plot(a,b,label = \"Line 1\", color = 'r',linewidth = 4, linestyle = 'dashed')\n",
        "plt.plot(a,c, label = \"Line 2\", marker = '^')\n",
        "plt.xlabel(\"x-axis\")\n",
        "plt.ylabel(\"y-axis\")\n",
        "plt.title(\"PLOT OF A vs B and A vs C\")\n",
        "plt.legend()\n",
        "plt.show() "
      ],
      "execution_count": null,
      "outputs": [
        {
          "output_type": "display_data",
          "data": {
            "image/png": "[encoded data removed]",
            "text/plain": [
              "<Figure size 432x288 with 1 Axes>"
            ]
          },
          "metadata": {
            "tags": [],
            "needs_background": "light"
          }
        }
      ]
    },
    {
      "cell_type": "code",
      "metadata": {
        "colab": {
          "base_uri": "https://localhost:8080/",
          "height": 282
        },
        "id": "QL0o3tWv_8_N",
        "outputId": "fe31cc91-37c1-4402-ac71-b9bef9f76d50"
      },
      "source": [
        "#BAR GRAPH\n",
        "text = ['A','B','C','D']\n",
        "num = [2,5,1,6]\n",
        "col1 = ['m','g','b','c']\n",
        "plt.bar(text,num,color=col1, align = 'center')"
      ],
      "execution_count": null,
      "outputs": [
        {
          "output_type": "execute_result",
          "data": {
            "text/plain": [
              "<BarContainer object of 4 artists>"
            ]
          },
          "metadata": {
            "tags": []
          },
          "execution_count": 109
        },
        {
          "output_type": "display_data",
          "data": {
            "image/png": "[encoded data removed]",
            "text/plain": [
              "<Figure size 432x288 with 1 Axes>"
            ]
          },
          "metadata": {
            "tags": [],
            "needs_background": "light"
          }
        }
      ]
    },
    {
      "cell_type": "code",
      "metadata": {
        "colab": {
          "base_uri": "https://localhost:8080/",
          "height": 279
        },
        "id": "LjpvbnxnC3eC",
        "outputId": "1b0a4a00-a191-4004-8b95-b5ba4766e7e6"
      },
      "source": [
        "#PIE CHART \n",
        "routine = ['sleep','work','food','leisure']\n",
        "hours =  ['7', '11','2' ,'4']\n",
        "col1 = ['r','g','b','c']\n",
        "plt.pie(hours,labels = routine, colors=col1, startangle = 0, explode = [0,0,0.5,0], autopct = '%1.1f%%')\n",
        "plt.legend(title=\"ROUTINE\")\n",
        "plt.show()"
      ],
      "execution_count": null,
      "outputs": [
        {
          "output_type": "display_data",
          "data": {
            "image/png": "[encoded data removed]",
            "text/plain": [
              "<Figure size 432x288 with 1 Axes>"
            ]
          },
          "metadata": {
            "tags": []
          }
        }
      ]
    },
    {
      "cell_type": "code",
      "metadata": {
        "colab": {
          "base_uri": "https://localhost:8080/",
          "height": 282
        },
        "id": "Ri901-K5JeXS",
        "outputId": "63749124-d49d-432b-8307-5756864b728e"
      },
      "source": [
        "#Scatter Plot \n",
        "a = [1,5,3,4,5,6,7]\n",
        "b = [5,4,3,2,1,6,3]\n",
        "plt.scatter(a,b, color = 'g', marker = \"+\", alpha=0.4)\n",
        "#plt.plot(a,b)"
      ],
      "execution_count": null,
      "outputs": [
        {
          "output_type": "execute_result",
          "data": {
            "text/plain": [
              "<matplotlib.collections.PathCollection at 0x7f84a4b6a8d0>"
            ]
          },
          "metadata": {
            "tags": []
          },
          "execution_count": 128
        },
        {
          "output_type": "display_data",
          "data": {
            "image/png": "[encoded data removed]",
            "text/plain": [
              "<Figure size 432x288 with 1 Axes>"
            ]
          },
          "metadata": {
            "tags": [],
            "needs_background": "light"
          }
        }
      ]
    },
    {
      "cell_type": "code",
      "metadata": {
        "colab": {
          "base_uri": "https://localhost:8080/",
          "height": 265
        },
        "id": "5BPtawZ0LXs8",
        "outputId": "f7164951-20ab-44f7-e570-65a5b2235c5d"
      },
      "source": [
        "import numpy as np\n",
        "x1 = (np.random.randint(0,50,30), np.random.randint(0,50,30))\n",
        "x2 = (np.random.randint(50,100,50), np.random.randint(50,100,50))\n",
        "x3 = (np.random.randint(100,150,5), np.random.randint(100,150,5))\n",
        "data = (x1,x2,x3)\n",
        "colors = (\"yellow\",\"green\",\"red\")\n",
        "#group = (\"Mango\", \"Grapes\", \"Apple\")\n",
        "for data,colors in zip(data,colors):\n",
        "  x,y = data \n",
        "  plt.scatter(x,y, c =colors)\n",
        "plt.show()"
      ],
      "execution_count": null,
      "outputs": [
        {
          "output_type": "display_data",
          "data": {
            "image/png": "[encoded data removed]",
            "text/plain": [
              "<Figure size 432x288 with 1 Axes>"
            ]
          },
          "metadata": {
            "tags": [],
            "needs_background": "light"
          }
        }
      ]
    },
    {
      "cell_type": "code",
      "metadata": {
        "id": "vtUCNxmGNhQ_"
      },
      "source": [
        ""
      ],
      "execution_count": null,
      "outputs": []
    }
  ]
}
